import cv2
import numpy as np
import matplotlib.pyplot as plt

img = cv2.imread('facedemo.jpg')

print(img.shape)

cv2.imshow("image",img)
cv2.waitKey(0)

face_detector = cv2.CascadeClassifier('template_data.xml')

#find faces by using Convolution(Sliding window)
faces = face_detector.detectMultiScale(img,1.3,5)

face_0 = faces[0]
x,y,w,h = face_0
print(face_0)

color = (0,240,0)
for face_i in faces:
    x,y,w,h = face_i
    cv2.rectangle(img,(x,y),(x+w,y+h),color,6)
plt.imshow(img)
plt.show()
